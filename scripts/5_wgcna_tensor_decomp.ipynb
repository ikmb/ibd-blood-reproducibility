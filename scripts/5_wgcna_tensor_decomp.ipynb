{
 "cells": [
  {
   "cell_type": "markdown",
   "metadata": {},
   "source": [
    "### Nonnegative tensor decomposition of co-expression networks (TOMs)"
   ]
  },
  {
   "cell_type": "code",
   "execution_count": 1,
   "metadata": {},
   "outputs": [],
   "source": [
    "# libraries\n",
    "import os\n",
    "import numpy as np\n",
    "import pandas as pd\n",
    "import tensortools as tt\n",
    "\n",
    "# get parent wd\n",
    "os.chdir('..')\n",
    "PATH = os.getcwd()"
   ]
  },
  {
   "cell_type": "code",
   "execution_count": 2,
   "metadata": {
    "scrolled": true
   },
   "outputs": [
    {
     "name": "stdout",
     "output_type": "stream",
     "text": [
      "tom_mrna_CD.csv.gz\n",
      "tom_mrna_SC.csv.gz\n",
      "tom_mrna_UC.csv.gz\n",
      "tom_mrna_HC.csv.gz\n",
      "(5863, 5863, 4)\n"
     ]
    }
   ],
   "source": [
    "tom_tensor = []\n",
    "\n",
    "for filename in os.listdir(PATH+'/data'):\n",
    "    if \"tom_mrna\" in filename:\n",
    "        print(filename)\n",
    "        df = pd.read_csv(\n",
    "            PATH+'/data/'+filename,\n",
    "            index_col =None,\n",
    "            header = 0,\n",
    "            sep = \",\",\n",
    "            compression = 'gzip'\n",
    "        )\n",
    "        tmp = df.values\n",
    "        tom_tensor.append(tmp)\n",
    "\n",
    "# assemble tensor\n",
    "tom_tensor = np.asarray(tom_tensor)\n",
    "tom_tensor = np.swapaxes(tom_tensor,0,2)\n",
    "tom_tensor = tom_tensor.astype('float32')\n",
    "\n",
    "# get gene names\n",
    "names = df.columns.values\n",
    "\n",
    "# print dims\n",
    "print(tom_tensor.shape)"
   ]
  },
  {
   "cell_type": "code",
   "execution_count": 9,
   "metadata": {},
   "outputs": [],
   "source": [
    "# number of factors\n",
    "R=10\n",
    "\n",
    "# perform tensor decomposition\n",
    "U = tt.ncp_hals(\n",
    "    tom_tensor,\n",
    "    rank=R,\n",
    "    verbose=False\n",
    ")\n",
    "# get factors\n",
    "factors_tt = U.factors.factors\n"
   ]
  },
  {
   "cell_type": "code",
   "execution_count": 10,
   "metadata": {},
   "outputs": [],
   "source": [
    "## convert matrices to data frames\n",
    "A = pd.DataFrame(factors_tt[0], index = names.tolist())\n",
    "B = pd.DataFrame(factors_tt[1], index = names.tolist())\n",
    "C = pd.DataFrame(factors_tt[2])\n",
    "\n",
    "# write the output\n",
    "pd.DataFrame.to_csv(\n",
    "    A, PATH+'/results/rna_A_factor.csv',\n",
    "    header=None\n",
    ")\n",
    "pd.DataFrame.to_csv(\n",
    "    B, PATH+'/results/rna_B_factor.csv',\n",
    "    header=None\n",
    ")\n",
    "pd.DataFrame.to_csv(\n",
    "    C, PATH+'/results/rna_C_factor.csv',\n",
    "    header=None\n",
    ")"
   ]
  },
  {
   "cell_type": "code",
   "execution_count": null,
   "metadata": {},
   "outputs": [],
   "source": []
  }
 ],
 "metadata": {
  "kernelspec": {
   "display_name": "Python 3",
   "language": "python",
   "name": "python3"
  },
  "language_info": {
   "codemirror_mode": {
    "name": "ipython",
    "version": 3
   },
   "file_extension": ".py",
   "mimetype": "text/x-python",
   "name": "python",
   "nbconvert_exporter": "python",
   "pygments_lexer": "ipython3",
   "version": "3.7.4"
  }
 },
 "nbformat": 4,
 "nbformat_minor": 2
}
